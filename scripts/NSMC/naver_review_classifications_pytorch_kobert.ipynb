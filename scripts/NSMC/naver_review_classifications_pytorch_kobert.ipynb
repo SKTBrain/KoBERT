{
 "cells": [
  {
   "cell_type": "markdown",
   "metadata": {},
   "source": [
    "# KoBERT finetuning"
   ]
  },
  {
   "cell_type": "markdown",
   "metadata": {},
   "source": []
  },
  {
   "cell_type": "code",
   "execution_count": null,
   "metadata": {},
   "outputs": [],
   "source": [
    "!pip install ipywidgets  # for vscode\n",
    "!pip install git+https://git@github.com/SKTBrain/KoBERT.git@master"
   ]
  },
  {
   "cell_type": "code",
   "execution_count": null,
   "metadata": {},
   "outputs": [],
   "source": [
    "import numpy as np\n",
    "from datasets import load_dataset\n",
    "from transformers import AutoTokenizer, AutoModelForSequenceClassification, DataCollatorWithPadding, Trainer, TrainingArguments"
   ]
  },
  {
   "cell_type": "code",
   "execution_count": null,
   "metadata": {},
   "outputs": [],
   "source": [
    "# 모델 및 토크나이저 로드\n",
    "model_name = \"skt/kobert-base-v1\"  # 또는 다른 KoBERT 모델\n",
    "tokenizer = AutoTokenizer.from_pretrained(model_name, use_fast=False)\n",
    "model = AutoModelForSequenceClassification.from_pretrained(model_name, num_labels=2)  # num_labels는 분류할 클래스 수에 따라 변경"
   ]
  },
  {
   "cell_type": "code",
   "execution_count": null,
   "metadata": {},
   "outputs": [],
   "source": [
    "# NSMC 영화 리뷰 데이터셋 준비\n",
    "dataset = load_dataset(\"e9t/nsmc\", trust_remote_code=True)\n",
    "\n",
    "def tokenize_function(example):\n",
    "    return tokenizer(example[\"document\"])\n",
    "\n",
    "tokenized_datasets = dataset.map(tokenize_function, batched=True)\n",
    "tokenized_datasets.set_format(type=\"torch\", columns=[\"input_ids\", \"attention_mask\", \"label\"])"
   ]
  },
  {
   "cell_type": "code",
   "execution_count": null,
   "metadata": {},
   "outputs": [],
   "source": [
    "# 데이터 길이를 똑같이 맞추기\n",
    "data_collator = DataCollatorWithPadding(tokenizer=tokenizer)"
   ]
  },
  {
   "cell_type": "code",
   "execution_count": null,
   "metadata": {},
   "outputs": [],
   "source": [
    "# 훈련 인자 설정\n",
    "training_args = TrainingArguments(\n",
    "    output_dir=\"./results\",          # 결과 저장 디렉토리\n",
    "    learning_rate=5e-5,\n",
    "    per_device_train_batch_size=64,  # 훈련 배치 크기\n",
    "    per_device_eval_batch_size=64,   # 평가 배치 크기\n",
    "    num_train_epochs=5,              # 훈련 에폭 수\n",
    "    weight_decay=0.01,               # 가중치 감소\n",
    "    eval_strategy=\"epoch\",     # 에폭마다 평가 수행\n",
    "    save_strategy=\"epoch\",          # 에폭마다 모델 저장\n",
    "    load_best_model_at_end=True,     # 훈련 종료 시 가장 좋은 모델 로드\n",
    "    metric_for_best_model=\"accuracy\", # 가장 좋은 모델을 선택하기 위한 메트릭\n",
    "    push_to_hub=False,               # Hugging Face Hub에 모델 업로드 여부\n",
    "    max_steps=10,\n",
    ")\n",
    "\n",
    "def compute_metrics(eval_pred):\n",
    "    logits, labels = eval_pred\n",
    "    predictions = np.argmax(logits, axis=-1)\n",
    "    return {\"accuracy\": np.mean(predictions == labels)}\n",
    "\n",
    "# Trainer 객체 생성\n",
    "trainer = Trainer(\n",
    "    model=model,\n",
    "    args=training_args,\n",
    "    train_dataset=tokenized_datasets[\"train\"],\n",
    "    eval_dataset=tokenized_datasets[\"test\"],\n",
    "    data_collator=data_collator,\n",
    "    compute_metrics=compute_metrics,\n",
    ")\n",
    "\n",
    "# 훈련 시작\n",
    "trainer.train()"
   ]
  },
  {
   "cell_type": "code",
   "execution_count": null,
   "metadata": {},
   "outputs": [],
   "source": [
    "# 평가 진행\n",
    "trainer.evaluate()"
   ]
  }
 ],
 "metadata": {
  "kernelspec": {
   "display_name": ".venv",
   "language": "python",
   "name": "python3"
  },
  "language_info": {
   "codemirror_mode": {
    "name": "ipython",
    "version": 3
   },
   "file_extension": ".py",
   "mimetype": "text/x-python",
   "name": "python",
   "nbconvert_exporter": "python",
   "pygments_lexer": "ipython3",
   "version": "3.10.10"
  }
 },
 "nbformat": 4,
 "nbformat_minor": 4
}
